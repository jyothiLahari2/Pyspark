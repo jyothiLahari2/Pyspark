{
 "cells": [
  {
   "cell_type": "code",
   "execution_count": 0,
   "metadata": {
    "application/vnd.databricks.v1+cell": {
     "cellMetadata": {
      "byteLimit": 2048000,
      "rowLimit": 10000
     },
     "inputWidgets": {},
     "nuid": "c737af70-703c-45b1-af0b-21ca6303f385",
     "showTitle": false,
     "title": ""
    }
   },
   "outputs": [
    {
     "output_type": "stream",
     "name": "stdout",
     "output_type": "stream",
     "text": [
      "Help on class Row in module pyspark.sql.types:\n\nclass Row(builtins.tuple)\n |  Row(*args: Optional[str], **kwargs: Optional[Any]) -> 'Row'\n |  \n |  A row in :class:`DataFrame`.\n |  The fields in it can be accessed:\n |  \n |  * like attributes (``row.key``)\n |  * like dictionary values (``row[key]``)\n |  \n |  ``key in row`` will search through row keys.\n |  \n |  Row can be used to create a row object by using named arguments.\n |  It is not allowed to omit a named argument to represent that the value is\n |  None or missing. This should be explicitly set to None in this case.\n |  \n |  .. versionchanged:: 3.0.0\n |      Rows created from named arguments no longer have\n |      field names sorted alphabetically and will be ordered in the position as\n |      entered.\n |  \n |  Examples\n |  --------\n |  >>> from pyspark.sql import Row\n |  >>> row = Row(name=\"Alice\", age=11)\n |  >>> row\n |  Row(name='Alice', age=11)\n |  >>> row['name'], row['age']\n |  ('Alice', 11)\n |  >>> row.name, row.age\n |  ('Alice', 11)\n |  >>> 'name' in row\n |  True\n |  >>> 'wrong_key' in row\n |  False\n |  \n |  Row also can be used to create another Row like class, then it\n |  could be used to create Row objects, such as\n |  \n |  >>> Person = Row(\"name\", \"age\")\n |  >>> Person\n |  <Row('name', 'age')>\n |  >>> 'name' in Person\n |  True\n |  >>> 'wrong_key' in Person\n |  False\n |  >>> Person(\"Alice\", 11)\n |  Row(name='Alice', age=11)\n |  \n |  This form can also be used to create rows as tuple values, i.e. with unnamed\n |  fields.\n |  \n |  >>> row1 = Row(\"Alice\", 11)\n |  >>> row2 = Row(name=\"Alice\", age=11)\n |  >>> row1 == row2\n |  True\n |  \n |  Method resolution order:\n |      Row\n |      builtins.tuple\n |      builtins.object\n |  \n |  Methods defined here:\n |  \n |  __call__(self, *args: Any) -> 'Row'\n |      create new Row object\n |  \n |  __contains__(self, item: Any) -> bool\n |      Return key in self.\n |  \n |  __getattr__(self, item: str) -> Any\n |  \n |  __getitem__(self, item: Any) -> Any\n |      Return self[key].\n |  \n |  __reduce__(self) -> Union[str, Tuple[Any, ...]]\n |      Returns a tuple so Python knows how to pickle Row.\n |  \n |  __repr__(self) -> str\n |      Printable representation of Row used in Python REPL.\n |  \n |  __setattr__(self, key: Any, value: Any) -> None\n |      Implement setattr(self, name, value).\n |  \n |  asDict(self, recursive: bool = False) -> Dict[str, Any]\n |      Return as a dict\n |      \n |      Parameters\n |      ----------\n |      recursive : bool, optional\n |          turns the nested Rows to dict (default: False).\n |      \n |      Notes\n |      -----\n |      If a row contains duplicate field names, e.g., the rows of a join\n |      between two :class:`DataFrame` that both have the fields of same names,\n |      one of the duplicate fields will be selected by ``asDict``. ``__getitem__``\n |      will also return one of the duplicate fields, however returned value might\n |      be different to ``asDict``.\n |      \n |      Examples\n |      --------\n |      >>> from pyspark.sql import Row\n |      >>> Row(name=\"Alice\", age=11).asDict() == {'name': 'Alice', 'age': 11}\n |      True\n |      >>> row = Row(key=1, value=Row(name='a', age=2))\n |      >>> row.asDict() == {'key': 1, 'value': Row(name='a', age=2)}\n |      True\n |      >>> row.asDict(True) == {'key': 1, 'value': {'name': 'a', 'age': 2}}\n |      True\n |  \n |  ----------------------------------------------------------------------\n |  Static methods defined here:\n |  \n |  __new__(cls, *args: Optional[str], **kwargs: Optional[Any]) -> 'Row'\n |      Create and return a new object.  See help(type) for accurate signature.\n |  \n |  ----------------------------------------------------------------------\n |  Data descriptors defined here:\n |  \n |  __dict__\n |      dictionary for instance variables (if defined)\n |  \n |  ----------------------------------------------------------------------\n |  Methods inherited from builtins.tuple:\n |  \n |  __add__(self, value, /)\n |      Return self+value.\n |  \n |  __eq__(self, value, /)\n |      Return self==value.\n |  \n |  __ge__(self, value, /)\n |      Return self>=value.\n |  \n |  __getattribute__(self, name, /)\n |      Return getattr(self, name).\n |  \n |  __getnewargs__(self, /)\n |  \n |  __gt__(self, value, /)\n |      Return self>value.\n |  \n |  __hash__(self, /)\n |      Return hash(self).\n |  \n |  __iter__(self, /)\n |      Implement iter(self).\n |  \n |  __le__(self, value, /)\n |      Return self<=value.\n |  \n |  __len__(self, /)\n |      Return len(self).\n |  \n |  __lt__(self, value, /)\n |      Return self<value.\n |  \n |  __mul__(self, value, /)\n |      Return self*value.\n |  \n |  __ne__(self, value, /)\n |      Return self!=value.\n |  \n |  __rmul__(self, value, /)\n |      Return value*self.\n |  \n |  count(self, value, /)\n |      Return number of occurrences of value.\n |  \n |  index(self, value, start=0, stop=9223372036854775807, /)\n |      Return first index of value.\n |      \n |      Raises ValueError if the value is not present.\n |  \n |  ----------------------------------------------------------------------\n |  Class methods inherited from builtins.tuple:\n |  \n |  __class_getitem__(...) from builtins.type\n |      See PEP 585\n\n"
     ]
    }
   ],
   "source": [
    "from pyspark.sql import Row\n",
    "help(Row)"
   ]
  },
  {
   "cell_type": "code",
   "execution_count": 0,
   "metadata": {
    "application/vnd.databricks.v1+cell": {
     "cellMetadata": {
      "byteLimit": 2048000,
      "rowLimit": 10000
     },
     "inputWidgets": {},
     "nuid": "bf047596-b81c-4d54-a239-fd0f0fb9d5bf",
     "showTitle": false,
     "title": ""
    }
   },
   "outputs": [
    {
     "output_type": "stream",
     "name": "stdout",
     "output_type": "stream",
     "text": [
      "lahari 4000\n"
     ]
    }
   ],
   "source": [
    "from pyspark.sql import Row\n",
    "\n",
    "row = Row('lahari',4000)\n",
    "\n",
    "print(row[0] + ' ' + str(row[1]))"
   ]
  },
  {
   "cell_type": "code",
   "execution_count": 0,
   "metadata": {
    "application/vnd.databricks.v1+cell": {
     "cellMetadata": {
      "byteLimit": 2048000,
      "rowLimit": 10000
     },
     "inputWidgets": {},
     "nuid": "57485fe5-a767-4467-bcad-76b71648085b",
     "showTitle": false,
     "title": ""
    }
   },
   "outputs": [
    {
     "output_type": "stream",
     "name": "stdout",
     "output_type": "stream",
     "text": [
      "lahari 4000\n"
     ]
    }
   ],
   "source": [
    "row = Row(name = 'lahari',salary = 4000)\n",
    "print(row.name + ' ' +str(row.salary))"
   ]
  },
  {
   "cell_type": "code",
   "execution_count": 0,
   "metadata": {
    "application/vnd.databricks.v1+cell": {
     "cellMetadata": {
      "byteLimit": 2048000,
      "rowLimit": 10000
     },
     "inputWidgets": {},
     "nuid": "fd60c115-55fa-45f7-8664-72a160ffa4f5",
     "showTitle": false,
     "title": ""
    }
   },
   "outputs": [
    {
     "output_type": "stream",
     "name": "stdout",
     "output_type": "stream",
     "text": [
      "+------+------+\n|  name|salary|\n+------+------+\n|lahari|  5000|\n|shetty|  6000|\n|jyothi|  7000|\n+------+------+\n\n"
     ]
    }
   ],
   "source": [
    "row = Row(name = 'lahari',salary = 5000)\n",
    "row1= Row(name = 'shetty',salary= 6000)\n",
    "row2 = Row(name= 'jyothi',salary = 7000)\n",
    "data = (row,row1,row2)\n",
    "df = spark.createDataFrame(data)\n",
    "df.show()"
   ]
  },
  {
   "cell_type": "code",
   "execution_count": 0,
   "metadata": {
    "application/vnd.databricks.v1+cell": {
     "cellMetadata": {
      "byteLimit": 2048000,
      "rowLimit": 10000
     },
     "inputWidgets": {},
     "nuid": "b22c46fd-73d1-418b-993d-1d8e92e696be",
     "showTitle": false,
     "title": ""
    }
   },
   "outputs": [
    {
     "output_type": "stream",
     "name": "stdout",
     "output_type": "stream",
     "text": [
      "56\n65\nlahari\njyothi\n+------+---+\n|  name|age|\n+------+---+\n|lahari| 56|\n|jyothi| 65|\n+------+---+\n\n"
     ]
    }
   ],
   "source": [
    "from pyspark.sql import Row\n",
    "person = Row('name','age')\n",
    "person1 = person('lahari',56)\n",
    "person2 = person('jyothi',65)\n",
    "\n",
    "print(person1.age)\n",
    "print(person2.age)\n",
    "print(person1.name)\n",
    "print(person2.name)\n",
    "\n",
    "df = spark.createDataFrame([person1,person2])\n",
    "df.show()"
   ]
  },
  {
   "cell_type": "code",
   "execution_count": 0,
   "metadata": {
    "application/vnd.databricks.v1+cell": {
     "cellMetadata": {
      "byteLimit": 2048000,
      "rowLimit": 10000
     },
     "inputWidgets": {},
     "nuid": "972ca0cf-aa1b-49a7-9b18-ad96f03bbda3",
     "showTitle": false,
     "title": ""
    }
   },
   "outputs": [
    {
     "output_type": "stream",
     "name": "stdout",
     "output_type": "stream",
     "text": [
      "+------+--------------+\n|  name|          Prop|\n+------+--------------+\n|Lahari| {black, blue}|\n|Jyothi|{brown, white}|\n+------+--------------+\n\nroot\n |-- name: string (nullable = true)\n |-- Prop: struct (nullable = true)\n |    |-- hair: string (nullable = true)\n |    |-- eye: string (nullable = true)\n\n"
     ]
    }
   ],
   "source": [
    "from pyspark.sql import Row\n",
    "data = [Row(name = 'Lahari',Prop = Row(hair = 'black', eye = 'blue')),\n",
    "         Row(name = 'Jyothi',Prop = Row(hair = 'brown',eye = 'white'))]\n",
    "df = spark.createDataFrame(data)\n",
    "df.show() \n",
    "df.printSchema()"
   ]
  },
  {
   "cell_type": "code",
   "execution_count": 0,
   "metadata": {
    "application/vnd.databricks.v1+cell": {
     "cellMetadata": {},
     "inputWidgets": {},
     "nuid": "7f919adc-72cf-42eb-965b-4240611af171",
     "showTitle": false,
     "title": ""
    }
   },
   "outputs": [],
   "source": []
  }
 ],
 "metadata": {
  "application/vnd.databricks.v1+notebook": {
   "dashboards": [],
   "language": "python",
   "notebookMetadata": {
    "pythonIndentUnit": 4
   },
   "notebookName": "row class()",
   "widgets": {}
  }
 },
 "nbformat": 4,
 "nbformat_minor": 0
}
