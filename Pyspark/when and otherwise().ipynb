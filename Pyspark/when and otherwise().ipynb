{
 "cells": [
  {
   "cell_type": "code",
   "execution_count": 0,
   "metadata": {
    "application/vnd.databricks.v1+cell": {
     "cellMetadata": {
      "byteLimit": 2048000,
      "rowLimit": 10000
     },
     "inputWidgets": {},
     "nuid": "3d26bc9c-2f7d-413b-b35a-00f3548237c0",
     "showTitle": false,
     "title": ""
    }
   },
   "outputs": [
    {
     "output_type": "stream",
     "name": "stdout",
     "output_type": "stream",
     "text": [
      "+---+--------+------+------+\n| id|    name|Gender|salary|\n+---+--------+------+------+\n|  1| lavanya|     F|  2000|\n|  2|  Jyothi|      |  3000|\n|  3|Deekshit|     M|  4000|\n|  4|  Lahari|     F|  5000|\n+---+--------+------+------+\n\n"
     ]
    }
   ],
   "source": [
    "data = [(1,'lavanya','F',2000),(2,'Jyothi',' ',3000),(3,'Deekshit','M',4000),(4,'Lahari','F',5000)]\n",
    "schema = ('id','name','Gender','salary')\n",
    "df = spark.createDataFrame(data,schema)\n",
    "df.show()"
   ]
  },
  {
   "cell_type": "code",
   "execution_count": 0,
   "metadata": {
    "application/vnd.databricks.v1+cell": {
     "cellMetadata": {
      "byteLimit": 2048000,
      "rowLimit": 10000
     },
     "inputWidgets": {},
     "nuid": "50371297-c0e4-4288-a4ef-4efad33cd062",
     "showTitle": false,
     "title": ""
    }
   },
   "outputs": [
    {
     "output_type": "stream",
     "name": "stdout",
     "output_type": "stream",
     "text": [
      "+---+--------+-------+\n| id|    name| gender|\n+---+--------+-------+\n|  1| lavanya| female|\n|  2|  Jyothi|unknown|\n|  3|Deekshit|   male|\n|  4|  Lahari| female|\n+---+--------+-------+\n\n"
     ]
    }
   ],
   "source": [
    "from pyspark.sql.functions import when\n",
    "df1 = df.select(df.id,df.name,when(df.Gender=='M','male').when(df.Gender=='F','female').otherwise('unknown').alias('gender'))\n",
    "df1.show()\n"
   ]
  },
  {
   "cell_type": "code",
   "execution_count": 0,
   "metadata": {
    "application/vnd.databricks.v1+cell": {
     "cellMetadata": {},
     "inputWidgets": {},
     "nuid": "0c595b13-e4da-4476-959e-6846cda8c542",
     "showTitle": false,
     "title": ""
    }
   },
   "outputs": [],
   "source": []
  }
 ],
 "metadata": {
  "application/vnd.databricks.v1+notebook": {
   "dashboards": [],
   "environmentMetadata": null,
   "language": "python",
   "notebookMetadata": {
    "pythonIndentUnit": 4
   },
   "notebookName": "when and otherwise()",
   "widgets": {}
  }
 },
 "nbformat": 4,
 "nbformat_minor": 0
}
