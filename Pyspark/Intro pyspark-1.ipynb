{
 "cells": [
  {
   "cell_type": "code",
   "execution_count": 1,
   "id": "b9574582",
   "metadata": {},
   "outputs": [
    {
     "name": "stdout",
     "output_type": "stream",
     "text": [
      "Requirement already satisfied: pyspark in ./anaconda3/lib/python3.11/site-packages (3.5.1)\r\n",
      "Requirement already satisfied: py4j==0.10.9.7 in ./anaconda3/lib/python3.11/site-packages (from pyspark) (0.10.9.7)\r\n"
     ]
    }
   ],
   "source": [
    "!pip install pyspark\n"
   ]
  },
  {
   "cell_type": "code",
   "execution_count": 2,
   "id": "dd66c6bf",
   "metadata": {},
   "outputs": [],
   "source": [
    "import pyspark"
   ]
  },
  {
   "cell_type": "markdown",
   "id": "dfc97582",
   "metadata": {},
   "source": [
    "To start pyspark session"
   ]
  },
  {
   "cell_type": "code",
   "execution_count": null,
   "id": "2b6d1b58",
   "metadata": {},
   "outputs": [],
   "source": []
  },
  {
   "cell_type": "code",
   "execution_count": 3,
   "id": "487810c4",
   "metadata": {},
   "outputs": [
    {
     "name": "stderr",
     "output_type": "stream",
     "text": [
      "24/03/12 15:01:27 WARN Utils: Your hostname, Puttas-MacBook-Pro.local resolves to a loopback address: 127.0.0.1; using 192.168.101.159 instead (on interface en0)\n",
      "24/03/12 15:01:27 WARN Utils: Set SPARK_LOCAL_IP if you need to bind to another address\n",
      "Setting default log level to \"WARN\".\n",
      "To adjust logging level use sc.setLogLevel(newLevel). For SparkR, use setLogLevel(newLevel).\n",
      "24/03/12 15:01:28 WARN NativeCodeLoader: Unable to load native-hadoop library for your platform... using builtin-java classes where applicable\n"
     ]
    },
    {
     "data": {
      "text/html": [
       "\n",
       "            <div>\n",
       "                <p><b>SparkSession - in-memory</b></p>\n",
       "                \n",
       "        <div>\n",
       "            <p><b>SparkContext</b></p>\n",
       "\n",
       "            <p><a href=\"http://192.168.101.159:4040\">Spark UI</a></p>\n",
       "\n",
       "            <dl>\n",
       "              <dt>Version</dt>\n",
       "                <dd><code>v3.5.1</code></dd>\n",
       "              <dt>Master</dt>\n",
       "                <dd><code>local[*]</code></dd>\n",
       "              <dt>AppName</dt>\n",
       "                <dd><code>practise</code></dd>\n",
       "            </dl>\n",
       "        </div>\n",
       "        \n",
       "            </div>\n",
       "        "
      ],
      "text/plain": [
       "<pyspark.sql.session.SparkSession at 0x106dece90>"
      ]
     },
     "execution_count": 3,
     "metadata": {},
     "output_type": "execute_result"
    }
   ],
   "source": [
    "from pyspark.sql import SparkSession\n",
    "spark = SparkSession.builder.appName('practise').getOrCreate()\n",
    "spark"
   ]
  },
  {
   "cell_type": "code",
   "execution_count": 4,
   "id": "3fe779e3",
   "metadata": {},
   "outputs": [
    {
     "data": {
      "text/html": [
       "\n",
       "            <div>\n",
       "                <p><b>SparkSession - in-memory</b></p>\n",
       "                \n",
       "        <div>\n",
       "            <p><b>SparkContext</b></p>\n",
       "\n",
       "            <p><a href=\"http://192.168.101.159:4040\">Spark UI</a></p>\n",
       "\n",
       "            <dl>\n",
       "              <dt>Version</dt>\n",
       "                <dd><code>v3.5.1</code></dd>\n",
       "              <dt>Master</dt>\n",
       "                <dd><code>local[*]</code></dd>\n",
       "              <dt>AppName</dt>\n",
       "                <dd><code>practise</code></dd>\n",
       "            </dl>\n",
       "        </div>\n",
       "        \n",
       "            </div>\n",
       "        "
      ],
      "text/plain": [
       "<pyspark.sql.session.SparkSession at 0x106dece90>"
      ]
     },
     "execution_count": 4,
     "metadata": {},
     "output_type": "execute_result"
    }
   ],
   "source": [
    "spark"
   ]
  },
  {
   "cell_type": "code",
   "execution_count": 5,
   "id": "4827aa7c",
   "metadata": {},
   "outputs": [],
   "source": [
    "df_pyspark=spark.read.csv('EntriesGender.csv')"
   ]
  },
  {
   "cell_type": "code",
   "execution_count": 6,
   "id": "2afe7fa5",
   "metadata": {},
   "outputs": [
    {
     "data": {
      "text/plain": [
       "pyspark.sql.dataframe.DataFrame"
      ]
     },
     "execution_count": 6,
     "metadata": {},
     "output_type": "execute_result"
    }
   ],
   "source": [
    "type(df_pyspark)"
   ]
  },
  {
   "cell_type": "code",
   "execution_count": 7,
   "id": "89ef6b7b",
   "metadata": {},
   "outputs": [
    {
     "name": "stdout",
     "output_type": "stream",
     "text": [
      "+--------------------+------+----+-----+\n",
      "|                 _c0|   _c1| _c2|  _c3|\n",
      "+--------------------+------+----+-----+\n",
      "|          Discipline|Female|Male|Total|\n",
      "|      3x3 Basketball|    32|  32|   64|\n",
      "|             Archery|    64|  64|  128|\n",
      "| Artistic Gymnastics|    98|  98|  196|\n",
      "|   Artistic Swimming|   105|   0|  105|\n",
      "|                Null|   969|1072| 2041|\n",
      "|           Badminton|  Null|  87|  173|\n",
      "|   Baseball/Softball|    90|Null|  234|\n",
      "|          Basketball|   144| 144| NULL|\n",
      "|    Beach Volleyball|    48|  48|   96|\n",
      "|              Boxing|   102| 187|  289|\n",
      "|        Canoe Slalom|    41|  41|   82|\n",
      "|        Canoe Sprint|   123| 126|  249|\n",
      "|Cycling BMX Frees...|    10|   9|   19|\n",
      "|  Cycling BMX Racing|    24|  24|   48|\n",
      "|Cycling Mountain ...|    38|  38|   76|\n",
      "|        Cycling Road|    70| 131|  201|\n",
      "|       Cycling Track|    90|  99|  189|\n",
      "|              Diving|    72|  71|  143|\n",
      "|          Equestrian|    73| 125|  198|\n",
      "+--------------------+------+----+-----+\n",
      "only showing top 20 rows\n",
      "\n"
     ]
    }
   ],
   "source": [
    "df_pyspark.show()"
   ]
  },
  {
   "cell_type": "code",
   "execution_count": 8,
   "id": "5d7df710",
   "metadata": {},
   "outputs": [],
   "source": [
    "df_pyspark=spark.read.option('header','true').csv('EntriesGender.csv')"
   ]
  },
  {
   "cell_type": "code",
   "execution_count": 9,
   "id": "12f08624",
   "metadata": {},
   "outputs": [
    {
     "data": {
      "text/plain": [
       "[Row(Discipline='3x3 Basketball', Female='32', Male='32', Total='64'),\n",
       " Row(Discipline='Archery', Female='64', Male='64', Total='128'),\n",
       " Row(Discipline='Artistic Gymnastics', Female='98', Male='98', Total='196')]"
      ]
     },
     "execution_count": 9,
     "metadata": {},
     "output_type": "execute_result"
    }
   ],
   "source": [
    "df_pyspark.head(3)"
   ]
  },
  {
   "cell_type": "code",
   "execution_count": 10,
   "id": "d2a6c03a",
   "metadata": {},
   "outputs": [
    {
     "name": "stdout",
     "output_type": "stream",
     "text": [
      "root\n",
      " |-- Discipline: string (nullable = true)\n",
      " |-- Female: string (nullable = true)\n",
      " |-- Male: string (nullable = true)\n",
      " |-- Total: string (nullable = true)\n",
      "\n"
     ]
    }
   ],
   "source": [
    "df_pyspark.printSchema(3)"
   ]
  },
  {
   "cell_type": "code",
   "execution_count": 11,
   "id": "5fd98fbd",
   "metadata": {},
   "outputs": [],
   "source": [
    "#inferschema()\n",
    "df_pyspark=spark.read.csv('EntriesGender.csv',header=True,inferSchema=True)"
   ]
  },
  {
   "cell_type": "code",
   "execution_count": 12,
   "id": "9b023ac7",
   "metadata": {},
   "outputs": [
    {
     "name": "stdout",
     "output_type": "stream",
     "text": [
      "+--------------------+------+----+-----+\n",
      "|          Discipline|Female|Male|Total|\n",
      "+--------------------+------+----+-----+\n",
      "|      3x3 Basketball|    32|  32|   64|\n",
      "|             Archery|    64|  64|  128|\n",
      "| Artistic Gymnastics|    98|  98|  196|\n",
      "|   Artistic Swimming|   105|   0|  105|\n",
      "|                Null|   969|1072| 2041|\n",
      "|           Badminton|  Null|  87|  173|\n",
      "|   Baseball/Softball|    90|Null|  234|\n",
      "|          Basketball|   144| 144| NULL|\n",
      "|    Beach Volleyball|    48|  48|   96|\n",
      "|              Boxing|   102| 187|  289|\n",
      "|        Canoe Slalom|    41|  41|   82|\n",
      "|        Canoe Sprint|   123| 126|  249|\n",
      "|Cycling BMX Frees...|    10|   9|   19|\n",
      "|  Cycling BMX Racing|    24|  24|   48|\n",
      "|Cycling Mountain ...|    38|  38|   76|\n",
      "|        Cycling Road|    70| 131|  201|\n",
      "|       Cycling Track|    90|  99|  189|\n",
      "|              Diving|    72|  71|  143|\n",
      "|          Equestrian|    73| 125|  198|\n",
      "|             Fencing|  NULL| 108|  215|\n",
      "+--------------------+------+----+-----+\n",
      "only showing top 20 rows\n",
      "\n"
     ]
    }
   ],
   "source": [
    "df_pyspark.show()"
   ]
  },
  {
   "cell_type": "code",
   "execution_count": 13,
   "id": "128b5b55",
   "metadata": {},
   "outputs": [
    {
     "data": {
      "text/plain": [
       "['Discipline', 'Female', 'Male', 'Total']"
      ]
     },
     "execution_count": 13,
     "metadata": {},
     "output_type": "execute_result"
    }
   ],
   "source": [
    "#Selecting Columns\n",
    "df_pyspark.columns"
   ]
  },
  {
   "cell_type": "code",
   "execution_count": 15,
   "id": "721539df",
   "metadata": {},
   "outputs": [
    {
     "data": {
      "text/plain": [
       "DataFrame[Discipline: string]"
      ]
     },
     "execution_count": 15,
     "metadata": {},
     "output_type": "execute_result"
    }
   ],
   "source": [
    "#To get first column\n",
    "df_pyspark.select('Discipline')"
   ]
  },
  {
   "cell_type": "code",
   "execution_count": 16,
   "id": "0f1260c9",
   "metadata": {},
   "outputs": [
    {
     "data": {
      "text/plain": [
       "pyspark.sql.dataframe.DataFrame"
      ]
     },
     "execution_count": 16,
     "metadata": {},
     "output_type": "execute_result"
    }
   ],
   "source": [
    "type(df_pyspark.select('Discipline'))"
   ]
  },
  {
   "cell_type": "code",
   "execution_count": 17,
   "id": "fd22fd29",
   "metadata": {},
   "outputs": [
    {
     "data": {
      "text/plain": [
       "DataFrame[Discipline: string, Female: string]"
      ]
     },
     "execution_count": 17,
     "metadata": {},
     "output_type": "execute_result"
    }
   ],
   "source": [
    "df_pyspark.select(['Discipline','Female'])"
   ]
  },
  {
   "cell_type": "code",
   "execution_count": 18,
   "id": "bc32a426",
   "metadata": {},
   "outputs": [
    {
     "data": {
      "text/plain": [
       "[('Discipline', 'string'),\n",
       " ('Female', 'string'),\n",
       " ('Male', 'string'),\n",
       " ('Total', 'string')]"
      ]
     },
     "execution_count": 18,
     "metadata": {},
     "output_type": "execute_result"
    }
   ],
   "source": [
    "df_pyspark.dtypes"
   ]
  },
  {
   "cell_type": "code",
   "execution_count": 19,
   "id": "045028ba",
   "metadata": {},
   "outputs": [
    {
     "data": {
      "text/plain": [
       "<bound method DataFrame.describe of DataFrame[Discipline: string, Female: string, Male: string, Total: string]>"
      ]
     },
     "execution_count": 19,
     "metadata": {},
     "output_type": "execute_result"
    }
   ],
   "source": [
    "df_pyspark.describe"
   ]
  },
  {
   "cell_type": "code",
   "execution_count": 20,
   "id": "d344a064",
   "metadata": {},
   "outputs": [],
   "source": [
    "#adding col & deleting col\n",
    "\n",
    "df_pyspark=df_pyspark.withColumn('Total after adding 2',df_pyspark['Total']+2)"
   ]
  },
  {
   "cell_type": "code",
   "execution_count": 21,
   "id": "7adacfd9",
   "metadata": {},
   "outputs": [
    {
     "name": "stdout",
     "output_type": "stream",
     "text": [
      "+--------------------+------+----+-----+--------------------+\n",
      "|          Discipline|Female|Male|Total|Total after adding 2|\n",
      "+--------------------+------+----+-----+--------------------+\n",
      "|      3x3 Basketball|    32|  32|   64|                66.0|\n",
      "|             Archery|    64|  64|  128|               130.0|\n",
      "| Artistic Gymnastics|    98|  98|  196|               198.0|\n",
      "|   Artistic Swimming|   105|   0|  105|               107.0|\n",
      "|                Null|   969|1072| 2041|              2043.0|\n",
      "|           Badminton|  Null|  87|  173|               175.0|\n",
      "|   Baseball/Softball|    90|Null|  234|               236.0|\n",
      "|          Basketball|   144| 144| NULL|                NULL|\n",
      "|    Beach Volleyball|    48|  48|   96|                98.0|\n",
      "|              Boxing|   102| 187|  289|               291.0|\n",
      "|        Canoe Slalom|    41|  41|   82|                84.0|\n",
      "|        Canoe Sprint|   123| 126|  249|               251.0|\n",
      "|Cycling BMX Frees...|    10|   9|   19|                21.0|\n",
      "|  Cycling BMX Racing|    24|  24|   48|                50.0|\n",
      "|Cycling Mountain ...|    38|  38|   76|                78.0|\n",
      "|        Cycling Road|    70| 131|  201|               203.0|\n",
      "|       Cycling Track|    90|  99|  189|               191.0|\n",
      "|              Diving|    72|  71|  143|               145.0|\n",
      "|          Equestrian|    73| 125|  198|               200.0|\n",
      "|             Fencing|  NULL| 108|  215|               217.0|\n",
      "+--------------------+------+----+-----+--------------------+\n",
      "only showing top 20 rows\n",
      "\n"
     ]
    }
   ],
   "source": [
    "df_pyspark.show()"
   ]
  },
  {
   "cell_type": "code",
   "execution_count": 22,
   "id": "9bafbd42",
   "metadata": {},
   "outputs": [],
   "source": [
    "df_pyspark=df_pyspark.drop('Total after adding 2')"
   ]
  },
  {
   "cell_type": "code",
   "execution_count": 23,
   "id": "0568a933",
   "metadata": {},
   "outputs": [
    {
     "name": "stdout",
     "output_type": "stream",
     "text": [
      "+--------------------+------+----+-----+\n",
      "|          Discipline|Female|Male|Total|\n",
      "+--------------------+------+----+-----+\n",
      "|      3x3 Basketball|    32|  32|   64|\n",
      "|             Archery|    64|  64|  128|\n",
      "| Artistic Gymnastics|    98|  98|  196|\n",
      "|   Artistic Swimming|   105|   0|  105|\n",
      "|                Null|   969|1072| 2041|\n",
      "|           Badminton|  Null|  87|  173|\n",
      "|   Baseball/Softball|    90|Null|  234|\n",
      "|          Basketball|   144| 144| NULL|\n",
      "|    Beach Volleyball|    48|  48|   96|\n",
      "|              Boxing|   102| 187|  289|\n",
      "|        Canoe Slalom|    41|  41|   82|\n",
      "|        Canoe Sprint|   123| 126|  249|\n",
      "|Cycling BMX Frees...|    10|   9|   19|\n",
      "|  Cycling BMX Racing|    24|  24|   48|\n",
      "|Cycling Mountain ...|    38|  38|   76|\n",
      "|        Cycling Road|    70| 131|  201|\n",
      "|       Cycling Track|    90|  99|  189|\n",
      "|              Diving|    72|  71|  143|\n",
      "|          Equestrian|    73| 125|  198|\n",
      "|             Fencing|  NULL| 108|  215|\n",
      "+--------------------+------+----+-----+\n",
      "only showing top 20 rows\n",
      "\n"
     ]
    }
   ],
   "source": [
    "df_pyspark.show()"
   ]
  },
  {
   "cell_type": "code",
   "execution_count": 24,
   "id": "b5637352",
   "metadata": {},
   "outputs": [],
   "source": [
    "df_pyspark=df_pyspark.withColumnRenamed('Male','Males')"
   ]
  },
  {
   "cell_type": "code",
   "execution_count": 25,
   "id": "3be2a108",
   "metadata": {},
   "outputs": [
    {
     "name": "stdout",
     "output_type": "stream",
     "text": [
      "+--------------------+------+-----+-----+\n",
      "|          Discipline|Female|Males|Total|\n",
      "+--------------------+------+-----+-----+\n",
      "|      3x3 Basketball|    32|   32|   64|\n",
      "|             Archery|    64|   64|  128|\n",
      "| Artistic Gymnastics|    98|   98|  196|\n",
      "|   Artistic Swimming|   105|    0|  105|\n",
      "|                Null|   969| 1072| 2041|\n",
      "|           Badminton|  Null|   87|  173|\n",
      "|   Baseball/Softball|    90| Null|  234|\n",
      "|          Basketball|   144|  144| NULL|\n",
      "|    Beach Volleyball|    48|   48|   96|\n",
      "|              Boxing|   102|  187|  289|\n",
      "|        Canoe Slalom|    41|   41|   82|\n",
      "|        Canoe Sprint|   123|  126|  249|\n",
      "|Cycling BMX Frees...|    10|    9|   19|\n",
      "|  Cycling BMX Racing|    24|   24|   48|\n",
      "|Cycling Mountain ...|    38|   38|   76|\n",
      "|        Cycling Road|    70|  131|  201|\n",
      "|       Cycling Track|    90|   99|  189|\n",
      "|              Diving|    72|   71|  143|\n",
      "|          Equestrian|    73|  125|  198|\n",
      "|             Fencing|  NULL|  108|  215|\n",
      "+--------------------+------+-----+-----+\n",
      "only showing top 20 rows\n",
      "\n"
     ]
    }
   ],
   "source": [
    "df_pyspark.show()"
   ]
  },
  {
   "cell_type": "code",
   "execution_count": null,
   "id": "a6247105",
   "metadata": {},
   "outputs": [],
   "source": []
  },
  {
   "cell_type": "code",
   "execution_count": null,
   "id": "7a004af4",
   "metadata": {},
   "outputs": [],
   "source": []
  },
  {
   "cell_type": "code",
   "execution_count": null,
   "id": "a82956aa",
   "metadata": {},
   "outputs": [],
   "source": []
  },
  {
   "cell_type": "code",
   "execution_count": null,
   "id": "5c0e00c1",
   "metadata": {},
   "outputs": [],
   "source": []
  },
  {
   "cell_type": "code",
   "execution_count": null,
   "id": "8b1cd928",
   "metadata": {},
   "outputs": [],
   "source": []
  },
  {
   "cell_type": "code",
   "execution_count": null,
   "id": "9ff0de58",
   "metadata": {},
   "outputs": [],
   "source": []
  },
  {
   "cell_type": "code",
   "execution_count": null,
   "id": "906a9989",
   "metadata": {},
   "outputs": [],
   "source": []
  }
 ],
 "metadata": {
  "kernelspec": {
   "display_name": "Python 3 (ipykernel)",
   "language": "python",
   "name": "python3"
  },
  "language_info": {
   "codemirror_mode": {
    "name": "ipython",
    "version": 3
   },
   "file_extension": ".py",
   "mimetype": "text/x-python",
   "name": "python",
   "nbconvert_exporter": "python",
   "pygments_lexer": "ipython3",
   "version": "3.11.6"
  }
 },
 "nbformat": 4,
 "nbformat_minor": 5
}
