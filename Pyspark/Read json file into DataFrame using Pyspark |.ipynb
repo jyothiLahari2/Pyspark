{
 "cells": [
  {
   "cell_type": "code",
   "execution_count": 0,
   "metadata": {
    "application/vnd.databricks.v1+cell": {
     "cellMetadata": {
      "byteLimit": 2048000,
      "rowLimit": 10000
     },
     "inputWidgets": {},
     "nuid": "187dab3b-a272-4145-91b2-1f9a6715dd3f",
     "showTitle": false,
     "title": ""
    }
   },
   "outputs": [],
   "source": [
    "df = spark.read.json(path='dbfs:/FileStore/data/sample1.json',multiLine=True)\n"
   ]
  },
  {
   "cell_type": "code",
   "execution_count": 0,
   "metadata": {
    "application/vnd.databricks.v1+cell": {
     "cellMetadata": {
      "byteLimit": 2048000,
      "rowLimit": 10000
     },
     "inputWidgets": {},
     "nuid": "b2f7de30-9e4f-40dd-942b-43d00fcb18f9",
     "showTitle": false,
     "title": ""
    }
   },
   "outputs": [],
   "source": [
    "from pyspark.sql.types import *\n",
    "schema = StructType().add(field = 'size',data_type=IntegerType())\n",
    "\n",
    "df = spark.read.json(path='dbfs:/FileStore/data/sample1.json',multiLine=True)\n"
   ]
  },
  {
   "cell_type": "code",
   "execution_count": 0,
   "metadata": {
    "application/vnd.databricks.v1+cell": {
     "cellMetadata": {
      "byteLimit": 2048000,
      "rowLimit": 10000
     },
     "inputWidgets": {},
     "nuid": "c7a3ea68-a48b-492d-9656-0eccc2e6b4b5",
     "showTitle": false,
     "title": ""
    }
   },
   "outputs": [
    {
     "output_type": "stream",
     "name": "stdout",
     "output_type": "stream",
     "text": [
      "root\n |-- color: string (nullable = true)\n |-- fruit: string (nullable = true)\n |-- size: string (nullable = true)\n\n"
     ]
    }
   ],
   "source": [
    "df.printSchema()"
   ]
  },
  {
   "cell_type": "code",
   "execution_count": 0,
   "metadata": {
    "application/vnd.databricks.v1+cell": {
     "cellMetadata": {
      "byteLimit": 2048000,
      "rowLimit": 10000
     },
     "inputWidgets": {},
     "nuid": "d8cd9b56-d88c-429a-b2b8-bd3017b331d7",
     "showTitle": false,
     "title": ""
    }
   },
   "outputs": [
    {
     "output_type": "stream",
     "name": "stdout",
     "output_type": "stream",
     "text": [
      "+-----+-----+-----+\n|color|fruit| size|\n+-----+-----+-----+\n|  Red|Apple|Large|\n+-----+-----+-----+\n\n"
     ]
    }
   ],
   "source": [
    "df.show()"
   ]
  },
  {
   "cell_type": "code",
   "execution_count": 0,
   "metadata": {
    "application/vnd.databricks.v1+cell": {
     "cellMetadata": {
      "byteLimit": 2048000,
      "rowLimit": 10000
     },
     "inputWidgets": {},
     "nuid": "23cb9fd8-03ae-4e60-aac8-61157c6c7a8b",
     "showTitle": false,
     "title": ""
    }
   },
   "outputs": [
    {
     "output_type": "stream",
     "name": "stdout",
     "output_type": "stream",
     "text": [
      "root\n |-- address: struct (nullable = true)\n |    |-- city: string (nullable = true)\n |    |-- state: string (nullable = true)\n |    |-- streetAddress: string (nullable = true)\n |-- age: long (nullable = true)\n |-- color: string (nullable = true)\n |-- firstName: string (nullable = true)\n |-- fruit: string (nullable = true)\n |-- gender: string (nullable = true)\n |-- lastName: string (nullable = true)\n |-- phoneNumbers: array (nullable = true)\n |    |-- element: struct (containsNull = true)\n |    |    |-- number: string (nullable = true)\n |    |    |-- type: string (nullable = true)\n |-- size: string (nullable = true)\n\n"
     ]
    }
   ],
   "source": [
    "from pyspark.sql.types import *\n",
    "schema = StructType().add(field = 'age',data_type=IntegerType())\n",
    "\n",
    "df = spark.read.json(path='dbfs:/FileStore/data/*',multiLine=True)\n",
    "\n",
    "df.printSchema()"
   ]
  },
  {
   "cell_type": "code",
   "execution_count": 0,
   "metadata": {
    "application/vnd.databricks.v1+cell": {
     "cellMetadata": {
      "byteLimit": 2048000,
      "rowLimit": 10000
     },
     "inputWidgets": {},
     "nuid": "f77ea549-8fc0-43fd-92a2-77c0bb262577",
     "showTitle": false,
     "title": ""
    }
   },
   "outputs": [
    {
     "output_type": "stream",
     "name": "stdout",
     "output_type": "stream",
     "text": [
      "+--------------------+----+-----+---------+-----+------+--------+--------------------+-----+\n|             address| age|color|firstName|fruit|gender|lastName|        phoneNumbers| size|\n+--------------------+----+-----+---------+-----+------+--------+--------------------+-----+\n|{San Diego, CA, 101}|  28| NULL|      Joe| NULL|  male| Jackson|[{7349282382, home}]| NULL|\n|                NULL|NULL|  Red|     NULL|Apple|  NULL|    NULL|                NULL|Large|\n+--------------------+----+-----+---------+-----+------+--------+--------------------+-----+\n\n"
     ]
    }
   ],
   "source": [
    "df.show()"
   ]
  },
  {
   "cell_type": "code",
   "execution_count": 0,
   "metadata": {
    "application/vnd.databricks.v1+cell": {
     "cellMetadata": {},
     "inputWidgets": {},
     "nuid": "4921ba73-edd2-49d1-8f99-57f7e3322196",
     "showTitle": false,
     "title": ""
    }
   },
   "outputs": [],
   "source": []
  }
 ],
 "metadata": {
  "application/vnd.databricks.v1+notebook": {
   "dashboards": [],
   "language": "python",
   "notebookMetadata": {
    "pythonIndentUnit": 4
   },
   "notebookName": "Read json file into DataFrame using Pyspark |",
   "widgets": {}
  }
 },
 "nbformat": 4,
 "nbformat_minor": 0
}
