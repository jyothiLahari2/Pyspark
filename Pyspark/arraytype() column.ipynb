{
 "cells": [
  {
   "cell_type": "code",
   "execution_count": 0,
   "metadata": {
    "application/vnd.databricks.v1+cell": {
     "cellMetadata": {
      "byteLimit": 2048000,
      "rowLimit": 10000
     },
     "inputWidgets": {},
     "nuid": "02519281-c012-499b-a84e-87e3ee1e42ab",
     "showTitle": false,
     "title": ""
    }
   },
   "outputs": [
    {
     "output_type": "stream",
     "name": "stdout",
     "output_type": "stream",
     "text": [
      "+---+-------+\n| id|Numbers|\n+---+-------+\n|abc| [1, 2]|\n|bcd| [3, 4]|\n|efg| [5, 6]|\n+---+-------+\n\nroot\n |-- id: string (nullable = true)\n |-- Numbers: array (nullable = true)\n |    |-- element: long (containsNull = true)\n\n"
     ]
    }
   ],
   "source": [
    "data = [('abc',[1,2]),('bcd',[3,4]),('efg',[5,6])]\n",
    "schema = ('id','Numbers')\n",
    "df = spark.createDataFrame(data=data,schema=schema)\n",
    "df.show()\n",
    "df.printSchema()"
   ]
  },
  {
   "cell_type": "code",
   "execution_count": 0,
   "metadata": {
    "application/vnd.databricks.v1+cell": {
     "cellMetadata": {
      "byteLimit": 2048000,
      "rowLimit": 10000
     },
     "inputWidgets": {},
     "nuid": "c972d02b-9850-417d-b43d-3d5d88dadacf",
     "showTitle": false,
     "title": ""
    }
   },
   "outputs": [
    {
     "output_type": "stream",
     "name": "stdout",
     "output_type": "stream",
     "text": [
      "+---+-------+\n| id|numbers|\n+---+-------+\n|abc| [1, 2]|\n|bcd| [3, 4]|\n|efg| [5, 6]|\n+---+-------+\n\nroot\n |-- id: string (nullable = true)\n |-- numbers: array (nullable = true)\n |    |-- element: integer (containsNull = true)\n\n"
     ]
    }
   ],
   "source": [
    "from pyspark.sql.types import StructType,StructField,StringType,IntegerType,ArrayType\n",
    "\n",
    "data = [('abc',[1,2]),('bcd',[3,4]),('efg',[5,6])]\n",
    "schema = StructType([\n",
    "    StructField('id',StringType()),\n",
    "        StructField('numbers',ArrayType(IntegerType()))\n",
    "    ])\n",
    "df = spark.createDataFrame(data,schema)\n",
    "df.show()\n",
    "df.printSchema()"
   ]
  },
  {
   "cell_type": "code",
   "execution_count": 0,
   "metadata": {
    "application/vnd.databricks.v1+cell": {
     "cellMetadata": {},
     "inputWidgets": {},
     "nuid": "e2cfdab3-3710-47b1-9075-72e3a12de72c",
     "showTitle": false,
     "title": ""
    }
   },
   "outputs": [],
   "source": []
  }
 ],
 "metadata": {
  "application/vnd.databricks.v1+notebook": {
   "dashboards": [],
   "language": "python",
   "notebookMetadata": {
    "pythonIndentUnit": 4
   },
   "notebookName": "arraytype() column",
   "widgets": {}
  }
 },
 "nbformat": 4,
 "nbformat_minor": 0
}
