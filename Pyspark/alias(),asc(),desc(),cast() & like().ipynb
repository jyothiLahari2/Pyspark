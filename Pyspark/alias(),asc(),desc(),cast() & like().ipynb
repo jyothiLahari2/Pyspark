{
 "cells": [
  {
   "cell_type": "code",
   "execution_count": 0,
   "metadata": {
    "application/vnd.databricks.v1+cell": {
     "cellMetadata": {
      "byteLimit": 2048000,
      "rowLimit": 10000
     },
     "inputWidgets": {},
     "nuid": "d1b01314-e622-4b21-a261-72a243cb7973",
     "showTitle": false,
     "title": ""
    }
   },
   "outputs": [
    {
     "output_type": "stream",
     "name": "stdout",
     "output_type": "stream",
     "text": [
      "+---+------+------+\n| id|  name|salary|\n+---+------+------+\n|  1|Jyothi|  2000|\n|  2|lahari|  3000|\n|  3| Putta|  4000|\n+---+------+------+\n\n"
     ]
    }
   ],
   "source": [
    "data = [(1,'Jyothi',2000),(2,'lahari',3000),(3,'Putta',4000)]\n",
    "schema = ('id','name','salary')\n",
    "\n",
    "df = spark.createDataFrame(data,schema)\n",
    "df.show()\n"
   ]
  },
  {
   "cell_type": "code",
   "execution_count": 0,
   "metadata": {
    "application/vnd.databricks.v1+cell": {
     "cellMetadata": {
      "byteLimit": 2048000,
      "rowLimit": 10000
     },
     "inputWidgets": {},
     "nuid": "45e9ad91-28c7-4c30-831e-7c9455613247",
     "showTitle": false,
     "title": ""
    }
   },
   "outputs": [
    {
     "output_type": "stream",
     "name": "stdout",
     "output_type": "stream",
     "text": [
      "+------+--------+----------+\n|emp_id|emp_name|emp_salary|\n+------+--------+----------+\n|     1|  Jyothi|      2000|\n|     2|  lahari|      3000|\n|     3|   Putta|      4000|\n+------+--------+----------+\n\n"
     ]
    }
   ],
   "source": [
    "df1 = df.select(df.id.alias('emp_id'),df.name.alias('emp_name'),df.salary.alias('emp_salary'))\n",
    "df1.show()\n",
    "\n"
   ]
  },
  {
   "cell_type": "code",
   "execution_count": 0,
   "metadata": {
    "application/vnd.databricks.v1+cell": {
     "cellMetadata": {
      "byteLimit": 2048000,
      "rowLimit": 10000
     },
     "inputWidgets": {},
     "nuid": "88486398-c86f-47af-bcf3-7b61972302ef",
     "showTitle": false,
     "title": ""
    }
   },
   "outputs": [
    {
     "output_type": "stream",
     "name": "stdout",
     "output_type": "stream",
     "text": [
      "+---+------+------+\n| id|  name|salary|\n+---+------+------+\n|  2|lahari|  3000|\n|  3| Putta|  4000|\n|  1|Jyothi|  2000|\n+---+------+------+\n\n"
     ]
    }
   ],
   "source": [
    "df2 = df.sort(df.name.desc()).show()"
   ]
  },
  {
   "cell_type": "code",
   "execution_count": 0,
   "metadata": {
    "application/vnd.databricks.v1+cell": {
     "cellMetadata": {
      "byteLimit": 2048000,
      "rowLimit": 10000
     },
     "inputWidgets": {},
     "nuid": "eeec1266-21e6-4b56-a8e4-2393234d52b8",
     "showTitle": false,
     "title": ""
    }
   },
   "outputs": [
    {
     "output_type": "stream",
     "name": "stdout",
     "output_type": "stream",
     "text": [
      "+---+------+------+\n| id|  name|salary|\n+---+------+------+\n|  1|Jyothi|  2000|\n|  3| Putta|  4000|\n|  2|lahari|  3000|\n+---+------+------+\n\n"
     ]
    }
   ],
   "source": [
    "df3 = df.sort(df.name.asc()).show()"
   ]
  },
  {
   "cell_type": "code",
   "execution_count": 0,
   "metadata": {
    "application/vnd.databricks.v1+cell": {
     "cellMetadata": {
      "byteLimit": 2048000,
      "rowLimit": 10000
     },
     "inputWidgets": {},
     "nuid": "5223ebbf-4b20-4bce-a73b-f635c4ab60c0",
     "showTitle": false,
     "title": ""
    }
   },
   "outputs": [
    {
     "output_type": "stream",
     "name": "stdout",
     "output_type": "stream",
     "text": [
      "root\n |-- id: long (nullable = true)\n |-- name: string (nullable = true)\n |-- salary: long (nullable = true)\n\n"
     ]
    }
   ],
   "source": [
    "df.printSchema()"
   ]
  },
  {
   "cell_type": "code",
   "execution_count": 0,
   "metadata": {
    "application/vnd.databricks.v1+cell": {
     "cellMetadata": {
      "byteLimit": 2048000,
      "rowLimit": 10000
     },
     "inputWidgets": {},
     "nuid": "518ebf2f-d577-44b8-b6b9-d162482d3b9c",
     "showTitle": false,
     "title": ""
    }
   },
   "outputs": [
    {
     "output_type": "stream",
     "name": "stdout",
     "output_type": "stream",
     "text": [
      "+---+------+------+\n| id|  name|salary|\n+---+------+------+\n|  1|Jyothi|  2000|\n|  2|lahari|  3000|\n|  3| Putta|  4000|\n+---+------+------+\n\nroot\n |-- id: long (nullable = true)\n |-- name: string (nullable = true)\n |-- salary: long (nullable = true)\n\n"
     ]
    }
   ],
   "source": [
    "df4 = df.select(df.id,df.name,df.salary)\n",
    "df4.show()\n",
    "df4.printSchema()\n",
    "\n"
   ]
  },
  {
   "cell_type": "code",
   "execution_count": 0,
   "metadata": {
    "application/vnd.databricks.v1+cell": {
     "cellMetadata": {
      "byteLimit": 2048000,
      "rowLimit": 10000
     },
     "inputWidgets": {},
     "nuid": "33defcc3-47c1-4e2d-835f-a255ef9ddc88",
     "showTitle": false,
     "title": ""
    }
   },
   "outputs": [
    {
     "output_type": "stream",
     "name": "stdout",
     "output_type": "stream",
     "text": [
      "+---+------+------+\n| id|  name|salary|\n+---+------+------+\n|  1|Jyothi|  2000|\n|  2|lahari|  3000|\n|  3| Putta|  4000|\n+---+------+------+\n\nroot\n |-- id: long (nullable = true)\n |-- name: string (nullable = true)\n |-- salary: integer (nullable = true)\n\n"
     ]
    }
   ],
   "source": [
    "df5 = df.select(df.id,df.name,df.salary.cast('int'))\n",
    "df5.show()\n",
    "df5.printSchema()"
   ]
  },
  {
   "cell_type": "code",
   "execution_count": 0,
   "metadata": {
    "application/vnd.databricks.v1+cell": {
     "cellMetadata": {
      "byteLimit": 2048000,
      "rowLimit": 10000
     },
     "inputWidgets": {},
     "nuid": "081e0808-cf27-4e57-87de-3fb1d11cd44e",
     "showTitle": false,
     "title": ""
    }
   },
   "outputs": [
    {
     "output_type": "stream",
     "name": "stdout",
     "output_type": "stream",
     "text": [
      "+---+----+------+------+\n| id|name|gender|salary|\n+---+----+------+------+\n+---+----+------+------+\n\n"
     ]
    }
   ],
   "source": [
    "data = [(1, 'Lahari', 'M',2000), (2, 'Jyothi', 'M', 4000), (3, 'Putta', 'F' ,3000)]\n",
    "schema = ['id', 'name', 'gender' , 'salary']\n",
    "df = spark.createDataFrame(data, schema)\n",
    "df. filter(df. name. like ('m%') ) .show()"
   ]
  },
  {
   "cell_type": "code",
   "execution_count": 0,
   "metadata": {
    "application/vnd.databricks.v1+cell": {
     "cellMetadata": {},
     "inputWidgets": {},
     "nuid": "8ce85a92-f3d6-40e1-91b5-a25aaaefc59f",
     "showTitle": false,
     "title": ""
    }
   },
   "outputs": [],
   "source": []
  }
 ],
 "metadata": {
  "application/vnd.databricks.v1+notebook": {
   "dashboards": [],
   "environmentMetadata": null,
   "language": "python",
   "notebookMetadata": {
    "pythonIndentUnit": 4
   },
   "notebookName": "alias(),asc(),desc(),cast() & like()",
   "widgets": {}
  }
 },
 "nbformat": 4,
 "nbformat_minor": 0
}
