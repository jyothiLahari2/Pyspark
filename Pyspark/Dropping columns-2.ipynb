{
 "cells": [
  {
   "cell_type": "code",
   "execution_count": 1,
   "id": "628de10d",
   "metadata": {},
   "outputs": [
    {
     "name": "stderr",
     "output_type": "stream",
     "text": [
      "24/03/12 14:50:52 WARN Utils: Your hostname, Puttas-MacBook-Pro.local resolves to a loopback address: 127.0.0.1; using 192.168.101.159 instead (on interface en0)\n",
      "24/03/12 14:50:52 WARN Utils: Set SPARK_LOCAL_IP if you need to bind to another address\n",
      "Setting default log level to \"WARN\".\n",
      "To adjust logging level use sc.setLogLevel(newLevel). For SparkR, use setLogLevel(newLevel).\n",
      "24/03/12 14:50:53 WARN NativeCodeLoader: Unable to load native-hadoop library for your platform... using builtin-java classes where applicable\n",
      "24/03/12 14:50:53 WARN Utils: Service 'SparkUI' could not bind on port 4040. Attempting port 4041.\n"
     ]
    },
    {
     "data": {
      "text/html": [
       "\n",
       "            <div>\n",
       "                <p><b>SparkSession - in-memory</b></p>\n",
       "                \n",
       "        <div>\n",
       "            <p><b>SparkContext</b></p>\n",
       "\n",
       "            <p><a href=\"http://192.168.101.159:4041\">Spark UI</a></p>\n",
       "\n",
       "            <dl>\n",
       "              <dt>Version</dt>\n",
       "                <dd><code>v3.5.1</code></dd>\n",
       "              <dt>Master</dt>\n",
       "                <dd><code>local[*]</code></dd>\n",
       "              <dt>AppName</dt>\n",
       "                <dd><code>class</code></dd>\n",
       "            </dl>\n",
       "        </div>\n",
       "        \n",
       "            </div>\n",
       "        "
      ],
      "text/plain": [
       "<pyspark.sql.session.SparkSession at 0x10a8c7dd0>"
      ]
     },
     "execution_count": 1,
     "metadata": {},
     "output_type": "execute_result"
    }
   ],
   "source": [
    "from pyspark.sql import SparkSession\n",
    "spark = SparkSession.builder.appName('class').getOrCreate()\n",
    "spark"
   ]
  },
  {
   "cell_type": "code",
   "execution_count": 13,
   "id": "40182770",
   "metadata": {},
   "outputs": [
    {
     "name": "stdout",
     "output_type": "stream",
     "text": [
      "+------------+------+\n",
      "|  Department|Salary|\n",
      "+------------+------+\n",
      "|Data Science| 10000|\n",
      "|         IOT|  5000|\n",
      "|     Bigdata|  4000|\n",
      "|     Bigdata|  NULL|\n",
      "|Data Science| 20000|\n",
      "|Data Science| 10000|\n",
      "|         IOT|  5000|\n",
      "|     Bigdata| 10000|\n",
      "|        NULL|  8000|\n",
      "+------------+------+\n",
      "\n"
     ]
    }
   ],
   "source": [
    "#drop the columns\n",
    "df_pyspark.drop('Name').show()"
   ]
  },
  {
   "cell_type": "code",
   "execution_count": 43,
   "id": "5e363282",
   "metadata": {},
   "outputs": [],
   "source": [
    "df_pyspark=spark.read.csv('test2.csv',header=True)"
   ]
  },
  {
   "cell_type": "code",
   "execution_count": 44,
   "id": "256ea458",
   "metadata": {},
   "outputs": [
    {
     "name": "stdout",
     "output_type": "stream",
     "text": [
      "+-------+------------+------+\n",
      "|   Name|  Department|Salary|\n",
      "+-------+------------+------+\n",
      "|   john|Data Science| 10000|\n",
      "|Stephen|         IOT|  5000|\n",
      "|   NULL|     Bigdata|  4000|\n",
      "|   paul|     Bigdata|  NULL|\n",
      "|  Krish|Data Science| 20000|\n",
      "|    Joe|Data Science| 10000|\n",
      "|Stephen|         IOT|  5000|\n",
      "|   jack|     Bigdata| 10000|\n",
      "|  Krish|        NULL|  8000|\n",
      "+-------+------------+------+\n",
      "\n"
     ]
    }
   ],
   "source": [
    "df_pyspark.show()"
   ]
  },
  {
   "cell_type": "code",
   "execution_count": 45,
   "id": "62c6c5b9",
   "metadata": {},
   "outputs": [
    {
     "name": "stdout",
     "output_type": "stream",
     "text": [
      "root\n",
      " |-- Name: string (nullable = true)\n",
      " |-- Department: string (nullable = true)\n",
      " |-- Salary: string (nullable = true)\n",
      "\n"
     ]
    }
   ],
   "source": [
    "df_pyspark.printSchema()"
   ]
  },
  {
   "cell_type": "code",
   "execution_count": 46,
   "id": "1e800861",
   "metadata": {},
   "outputs": [
    {
     "name": "stdout",
     "output_type": "stream",
     "text": [
      "+-------+------------+------+\n",
      "|   Name|  Department|Salary|\n",
      "+-------+------------+------+\n",
      "|   john|Data Science| 10000|\n",
      "|Stephen|         IOT|  5000|\n",
      "|  Krish|Data Science| 20000|\n",
      "|    Joe|Data Science| 10000|\n",
      "|Stephen|         IOT|  5000|\n",
      "|   jack|     Bigdata| 10000|\n",
      "+-------+------------+------+\n",
      "\n"
     ]
    }
   ],
   "source": [
    "df_pyspark.na.drop().show()"
   ]
  },
  {
   "cell_type": "code",
   "execution_count": 47,
   "id": "ac28baa3",
   "metadata": {},
   "outputs": [
    {
     "data": {
      "text/plain": [
       "DataFrame[Name: string, Department: string, Salary: string]"
      ]
     },
     "execution_count": 47,
     "metadata": {},
     "output_type": "execute_result"
    }
   ],
   "source": [
    "#any==how\n",
    "df_pyspark.na.drop(how='any')"
   ]
  },
  {
   "cell_type": "code",
   "execution_count": 21,
   "id": "2dffafeb",
   "metadata": {},
   "outputs": [
    {
     "data": {
      "text/plain": [
       "DataFrame[Name: string, Department: string, Salary: int]"
      ]
     },
     "execution_count": 21,
     "metadata": {},
     "output_type": "execute_result"
    }
   ],
   "source": [
    "df_pyspark.na.drop(how='all')"
   ]
  },
  {
   "cell_type": "code",
   "execution_count": 23,
   "id": "9c192d11",
   "metadata": {},
   "outputs": [
    {
     "name": "stdout",
     "output_type": "stream",
     "text": [
      "+-------+------------+------+\n",
      "|   Name|  Department|Salary|\n",
      "+-------+------------+------+\n",
      "|   john|Data Science| 10000|\n",
      "|Stephen|         IOT|  5000|\n",
      "|   NULL|     Bigdata|  4000|\n",
      "|   paul|     Bigdata|  NULL|\n",
      "|  Krish|Data Science| 20000|\n",
      "|    Joe|Data Science| 10000|\n",
      "|Stephen|         IOT|  5000|\n",
      "|   jack|     Bigdata| 10000|\n",
      "|  Krish|        NULL|  8000|\n",
      "+-------+------------+------+\n",
      "\n"
     ]
    }
   ],
   "source": [
    "df_pyspark.show()"
   ]
  },
  {
   "cell_type": "code",
   "execution_count": 30,
   "id": "f9462cfa",
   "metadata": {},
   "outputs": [
    {
     "data": {
      "text/plain": [
       "DataFrame[Name: string, Department: string, Salary: int]"
      ]
     },
     "execution_count": 30,
     "metadata": {},
     "output_type": "execute_result"
    }
   ],
   "source": [
    "#threshold\n",
    "df_pyspark.na.drop(how=\"any\",thresh=2)"
   ]
  },
  {
   "cell_type": "code",
   "execution_count": 31,
   "id": "4bc2bf71",
   "metadata": {},
   "outputs": [
    {
     "name": "stdout",
     "output_type": "stream",
     "text": [
      "+-------+------------+------+\n",
      "|   Name|  Department|Salary|\n",
      "+-------+------------+------+\n",
      "|   john|Data Science| 10000|\n",
      "|Stephen|         IOT|  5000|\n",
      "|   NULL|     Bigdata|  4000|\n",
      "|   paul|     Bigdata|  NULL|\n",
      "|  Krish|Data Science| 20000|\n",
      "|    Joe|Data Science| 10000|\n",
      "|Stephen|         IOT|  5000|\n",
      "|   jack|     Bigdata| 10000|\n",
      "+-------+------------+------+\n",
      "\n"
     ]
    }
   ],
   "source": [
    "#subset\n",
    "df_pyspark.na.drop(how=\"any\",subset=['Department']).show()"
   ]
  },
  {
   "cell_type": "code",
   "execution_count": 38,
   "id": "25f006cc",
   "metadata": {},
   "outputs": [
    {
     "name": "stdout",
     "output_type": "stream",
     "text": [
      "+-------------+-------------+------+\n",
      "|         Name|   Department|Salary|\n",
      "+-------------+-------------+------+\n",
      "|         john| Data Science| 10000|\n",
      "|      Stephen|          IOT|  5000|\n",
      "|value missing|      Bigdata|  4000|\n",
      "|         paul|      Bigdata|  NULL|\n",
      "|        Krish| Data Science| 20000|\n",
      "|          Joe| Data Science| 10000|\n",
      "|      Stephen|          IOT|  5000|\n",
      "|         jack|      Bigdata| 10000|\n",
      "|        Krish|value missing|  8000|\n",
      "+-------------+-------------+------+\n",
      "\n"
     ]
    }
   ],
   "source": [
    "#filling the missing value\n",
    "\n",
    "df_pyspark.na.fill('value missing').show()"
   ]
  },
  {
   "cell_type": "code",
   "execution_count": 51,
   "id": "e5c8d9f2",
   "metadata": {},
   "outputs": [
    {
     "name": "stdout",
     "output_type": "stream",
     "text": [
      "+-------------+-------------+-------------+\n",
      "|         Name|   Department|       Salary|\n",
      "+-------------+-------------+-------------+\n",
      "|         john| Data Science|        10000|\n",
      "|      Stephen|          IOT|         5000|\n",
      "|value missing|      Bigdata|         4000|\n",
      "|         paul|      Bigdata|value missing|\n",
      "|        Krish| Data Science|        20000|\n",
      "|          Joe| Data Science|        10000|\n",
      "|      Stephen|          IOT|         5000|\n",
      "|         jack|      Bigdata|        10000|\n",
      "|        Krish|value missing|         8000|\n",
      "+-------------+-------------+-------------+\n",
      "\n"
     ]
    }
   ],
   "source": [
    "df_pyspark.na.fill('value missing',['Name','Department','Salary']).show()"
   ]
  },
  {
   "cell_type": "code",
   "execution_count": null,
   "id": "4a61493d",
   "metadata": {},
   "outputs": [],
   "source": []
  }
 ],
 "metadata": {
  "kernelspec": {
   "display_name": "Python 3 (ipykernel)",
   "language": "python",
   "name": "python3"
  },
  "language_info": {
   "codemirror_mode": {
    "name": "ipython",
    "version": 3
   },
   "file_extension": ".py",
   "mimetype": "text/x-python",
   "name": "python",
   "nbconvert_exporter": "python",
   "pygments_lexer": "ipython3",
   "version": "3.11.6"
  }
 },
 "nbformat": 4,
 "nbformat_minor": 5
}
