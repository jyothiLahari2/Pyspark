{
 "cells": [
  {
   "cell_type": "code",
   "execution_count": 0,
   "metadata": {
    "application/vnd.databricks.v1+cell": {
     "cellMetadata": {
      "byteLimit": 2048000,
      "rowLimit": 10000
     },
     "inputWidgets": {},
     "nuid": "6365112d-a4a8-4e2c-8e7a-99cff1acaf2e",
     "showTitle": false,
     "title": ""
    }
   },
   "outputs": [
    {
     "output_type": "stream",
     "name": "stdout",
     "output_type": "stream",
     "text": [
      "+---+--------+\n| Id|    Name|\n+---+--------+\n|  1| Lavanya|\n|  2|Deekshit|\n|  3|  Lahari|\n|  4|    Raja|\n|  5|    saru|\n+---+--------+\n\n"
     ]
    }
   ],
   "source": [
    "data = [(1,'Lavanya'),(2,'Deekshit'),(3,'Lahari'),(4,'Raja'),(5,'saru')]\n",
    "schema = ('Id','Name')\n",
    "\n",
    "df = spark.createDataFrame(data=data,schema=schema)\n",
    "df.show()"
   ]
  },
  {
   "cell_type": "code",
   "execution_count": 0,
   "metadata": {
    "application/vnd.databricks.v1+cell": {
     "cellMetadata": {
      "byteLimit": 2048000,
      "rowLimit": 10000
     },
     "inputWidgets": {},
     "nuid": "fa34928a-98d8-4359-be1a-c9b66a3cda1a",
     "showTitle": false,
     "title": ""
    }
   },
   "outputs": [
    {
     "output_type": "stream",
     "name": "stdout",
     "output_type": "stream",
     "text": [
      "+---+--------------------+\n| Id|                Name|\n+---+--------------------+\n|  1|Lavanyaasdfghjklk...|\n|  2|Deekshitsadfghjki...|\n|  3| Laharisdcfghjuyhtre|\n|  4|   Rajacvfghtredvfbg|\n|  5|sarudfghjkyhtrsadfgh|\n+---+--------------------+\n\n"
     ]
    }
   ],
   "source": [
    "data = [(1,'Lavanyaasdfghjklkjhgfdssdcv'),(2,'Deekshitsadfghjkiyhtgrfds'),(3,'Laharisdcfghjuyhtre'),(4,'Rajacvfghtredvfbg'),(5,'sarudfghjkyhtrsadfgh')]\n",
    "schema = ('Id','Name')\n",
    "\n",
    "df = spark.createDataFrame(data=data,schema=schema)\n",
    "df.show() ###only 20 letters will dislpay###"
   ]
  },
  {
   "cell_type": "code",
   "execution_count": 0,
   "metadata": {
    "application/vnd.databricks.v1+cell": {
     "cellMetadata": {
      "byteLimit": 2048000,
      "rowLimit": 10000
     },
     "inputWidgets": {},
     "nuid": "edec795d-fc3e-4ae0-9a94-cefeac42910d",
     "showTitle": false,
     "title": ""
    }
   },
   "outputs": [
    {
     "output_type": "stream",
     "name": "stdout",
     "output_type": "stream",
     "text": [
      "+---+--------+\n| Id|    Name|\n+---+--------+\n|  1|Lavan...|\n|  2|Deeks...|\n|  3|Lahar...|\n|  4|Rajac...|\n|  5|sarud...|\n+---+--------+\n\n"
     ]
    }
   ],
   "source": [
    "df.show(truncate =8)"
   ]
  },
  {
   "cell_type": "code",
   "execution_count": 0,
   "metadata": {
    "application/vnd.databricks.v1+cell": {
     "cellMetadata": {
      "byteLimit": 2048000,
      "rowLimit": 10000
     },
     "inputWidgets": {},
     "nuid": "d55ced07-b9f6-40f2-b25a-f7985c08024c",
     "showTitle": false,
     "title": ""
    }
   },
   "outputs": [
    {
     "output_type": "stream",
     "name": "stdout",
     "output_type": "stream",
     "text": [
      "+---+---------------------------+\n|Id |Name                       |\n+---+---------------------------+\n|1  |Lavanyaasdfghjklkjhgfdssdcv|\n|2  |Deekshitsadfghjkiyhtgrfds  |\n|3  |Laharisdcfghjuyhtre        |\n|4  |Rajacvfghtredvfbg          |\n+---+---------------------------+\nonly showing top 4 rows\n\n"
     ]
    }
   ],
   "source": [
    "df.show(n=4,truncate = False)"
   ]
  },
  {
   "cell_type": "code",
   "execution_count": 0,
   "metadata": {
    "application/vnd.databricks.v1+cell": {
     "cellMetadata": {
      "byteLimit": 2048000,
      "rowLimit": 10000
     },
     "inputWidgets": {},
     "nuid": "d5cb0383-c09b-4cc3-912b-1cb511ce5af1",
     "showTitle": false,
     "title": ""
    }
   },
   "outputs": [
    {
     "output_type": "stream",
     "name": "stdout",
     "output_type": "stream",
     "text": [
      "-RECORD 0---------------------------\n Id   | 1                           \n Name | Lavanyaasdfghjklkjhgfdssdcv \n-RECORD 1---------------------------\n Id   | 2                           \n Name | Deekshitsadfghjkiyhtgrfds   \n-RECORD 2---------------------------\n Id   | 3                           \n Name | Laharisdcfghjuyhtre         \n-RECORD 3---------------------------\n Id   | 4                           \n Name | Rajacvfghtredvfbg           \n-RECORD 4---------------------------\n Id   | 5                           \n Name | sarudfghjkyhtrsadfgh        \n\n"
     ]
    }
   ],
   "source": [
    "df.show(n= 5,truncate = False , vertical= True)"
   ]
  },
  {
   "cell_type": "code",
   "execution_count": 0,
   "metadata": {
    "application/vnd.databricks.v1+cell": {
     "cellMetadata": {},
     "inputWidgets": {},
     "nuid": "061aaf7b-b6b7-4e88-8941-5a9867c52cfc",
     "showTitle": false,
     "title": ""
    }
   },
   "outputs": [],
   "source": []
  }
 ],
 "metadata": {
  "application/vnd.databricks.v1+notebook": {
   "dashboards": [],
   "language": "python",
   "notebookMetadata": {
    "pythonIndentUnit": 4
   },
   "notebookName": "show() in Pyspark to display Dataframe in Table",
   "widgets": {}
  }
 },
 "nbformat": 4,
 "nbformat_minor": 0
}
