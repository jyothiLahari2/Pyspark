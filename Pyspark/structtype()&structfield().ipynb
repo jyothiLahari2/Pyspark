{
 "cells": [
  {
   "cell_type": "code",
   "execution_count": 0,
   "metadata": {
    "application/vnd.databricks.v1+cell": {
     "cellMetadata": {
      "byteLimit": 2048000,
      "rowLimit": 10000
     },
     "inputWidgets": {},
     "nuid": "84bc40af-ebd2-4374-b489-e9295ae1f2f3",
     "showTitle": false,
     "title": ""
    }
   },
   "outputs": [
    {
     "output_type": "stream",
     "name": "stdout",
     "output_type": "stream",
     "text": [
      "+---+------+----+\n| _1|    _2|  _3|\n+---+------+----+\n|  1|Lahari|4000|\n|  2|Jyothi|3000|\n+---+------+----+\n\n"
     ]
    }
   ],
   "source": [
    "data = [(1,'Lahari',4000),(2,'Jyothi',3000)]\n",
    "schema = ['id','name','salary']\n",
    "df = spark.createDataFrame(data=data)\n",
    "df.show()"
   ]
  },
  {
   "cell_type": "code",
   "execution_count": 0,
   "metadata": {
    "application/vnd.databricks.v1+cell": {
     "cellMetadata": {
      "byteLimit": 2048000,
      "rowLimit": 10000
     },
     "inputWidgets": {},
     "nuid": "a6a32f4a-47e1-4eeb-8492-2aa362107a0a",
     "showTitle": false,
     "title": ""
    }
   },
   "outputs": [],
   "source": [
    "\n",
    "\n",
    "from pyspark.sql.types import StructType, StructField, IntegerType, StringType"
   ]
  },
  {
   "cell_type": "code",
   "execution_count": 0,
   "metadata": {
    "application/vnd.databricks.v1+cell": {
     "cellMetadata": {
      "byteLimit": 2048000,
      "rowLimit": 10000
     },
     "inputWidgets": {},
     "nuid": "d619cee0-9d99-43f3-b17f-962a670be61f",
     "showTitle": false,
     "title": ""
    }
   },
   "outputs": [
    {
     "output_type": "stream",
     "name": "stdout",
     "output_type": "stream",
     "text": [
      "+---+------+------+\n| id|  name|salary|\n+---+------+------+\n|  1|Lahari|  4000|\n|  2|Jyothi|  3000|\n+---+------+------+\n\n"
     ]
    }
   ],
   "source": [
    "data = [(1,'Lahari',4000),(2,'Jyothi',3000)]\n",
    "schema = StructType([\\\n",
    "    StructField(name='id',dataType=IntegerType()),\\\n",
    "        StructField(name='name',dataType=StringType()),\\\n",
    "            StructField(name='salary',dataType=IntegerType())])\n",
    "df = spark.createDataFrame(data=data,schema=schema)\n",
    "df.show()"
   ]
  },
  {
   "cell_type": "code",
   "execution_count": 0,
   "metadata": {
    "application/vnd.databricks.v1+cell": {
     "cellMetadata": {
      "byteLimit": 2048000,
      "rowLimit": 10000
     },
     "inputWidgets": {},
     "nuid": "2e749d1b-2c6b-42eb-bd50-d029fda3784a",
     "showTitle": false,
     "title": ""
    }
   },
   "outputs": [
    {
     "output_type": "stream",
     "name": "stdout",
     "output_type": "stream",
     "text": [
      "root\n |-- id: integer (nullable = true)\n |-- name: string (nullable = true)\n |-- salary: integer (nullable = true)\n\n"
     ]
    }
   ],
   "source": [
    "df.printSchema()"
   ]
  },
  {
   "cell_type": "code",
   "execution_count": 0,
   "metadata": {
    "application/vnd.databricks.v1+cell": {
     "cellMetadata": {
      "byteLimit": 2048000,
      "rowLimit": 10000
     },
     "inputWidgets": {},
     "nuid": "a74d41b2-9626-40b4-b971-c7692b5227b3",
     "showTitle": false,
     "title": ""
    }
   },
   "outputs": [
    {
     "output_type": "stream",
     "name": "stdout",
     "output_type": "stream",
     "text": [
      "+---+---------------+------+\n| id|           name|salary|\n+---+---------------+------+\n|  1|{Lahari, Putta}|  4000|\n|  2|{Jyothi, Putta}|  3000|\n+---+---------------+------+\n\n"
     ]
    }
   ],
   "source": [
    "data = [(1,('Lahari','Putta'),4000),(2,('Jyothi','Putta'),3000)]\n",
    "\n",
    "StructName = StructType([\\\n",
    "    StructField('firstmname',StringType()),\\\n",
    "        StructField('lastname',StringType())\n",
    "\n",
    "])\n",
    "schema = StructType([\\\n",
    "    StructField(name='id',dataType=IntegerType()),\\\n",
    "        StructField(name='name',dataType=StructName),\\\n",
    "            StructField(name='salary',dataType=IntegerType())])\n",
    "df = spark.createDataFrame(data=data,schema=schema)\n",
    "df.show()"
   ]
  },
  {
   "cell_type": "code",
   "execution_count": 0,
   "metadata": {
    "application/vnd.databricks.v1+cell": {
     "cellMetadata": {
      "byteLimit": 2048000,
      "rowLimit": 10000
     },
     "inputWidgets": {},
     "nuid": "31c38896-09d0-44f1-a707-ff8d0aac9bd1",
     "showTitle": false,
     "title": ""
    }
   },
   "outputs": [
    {
     "output_type": "display_data",
     "data": {
      "text/html": [
       "<style scoped>\n",
       "  .table-result-container {\n",
       "    max-height: 300px;\n",
       "    overflow: auto;\n",
       "  }\n",
       "  table, th, td {\n",
       "    border: 1px solid black;\n",
       "    border-collapse: collapse;\n",
       "  }\n",
       "  th, td {\n",
       "    padding: 5px;\n",
       "  }\n",
       "  th {\n",
       "    text-align: left;\n",
       "  }\n",
       "</style><div class='table-result-container'><table class='table-result'><thead style='background-color: white'><tr><th>id</th><th>name</th><th>salary</th></tr></thead><tbody><tr><td>1</td><td>List(Lahari, Putta)</td><td>4000</td></tr><tr><td>2</td><td>List(Jyothi, Putta)</td><td>3000</td></tr></tbody></table></div>"
      ]
     },
     "metadata": {
      "application/vnd.databricks.v1+output": {
       "addedWidgets": {},
       "aggData": [],
       "aggError": "",
       "aggOverflow": false,
       "aggSchema": [],
       "aggSeriesLimitReached": false,
       "aggType": "",
       "arguments": {},
       "columnCustomDisplayInfos": {},
       "data": [
        [
         1,
         [
          "Lahari",
          "Putta"
         ],
         4000
        ],
        [
         2,
         [
          "Jyothi",
          "Putta"
         ],
         3000
        ]
       ],
       "datasetInfos": [],
       "dbfsResultPath": null,
       "isJsonSchema": true,
       "metadata": {},
       "overflow": false,
       "plotOptions": {
        "customPlotOptions": {},
        "displayType": "table",
        "pivotAggregation": null,
        "pivotColumns": null,
        "xColumns": null,
        "yColumns": null
       },
       "removedWidgets": [],
       "schema": [
        {
         "metadata": "{}",
         "name": "id",
         "type": "\"integer\""
        },
        {
         "metadata": "{}",
         "name": "name",
         "type": "{\"type\":\"struct\",\"fields\":[{\"name\":\"firstmname\",\"type\":\"string\",\"nullable\":true,\"metadata\":{}},{\"name\":\"lastname\",\"type\":\"string\",\"nullable\":true,\"metadata\":{}}]}"
        },
        {
         "metadata": "{}",
         "name": "salary",
         "type": "\"integer\""
        }
       ],
       "type": "table"
      }
     },
     "output_type": "display_data"
    }
   ],
   "source": [
    "data = [(1,('Lahari','Putta'),4000),(2,('Jyothi','Putta'),3000)]\n",
    "\n",
    "StructName = StructType([\\\n",
    "    StructField('firstmname',StringType()),\\\n",
    "        StructField('lastname',StringType())\n",
    "\n",
    "])\n",
    "schema = StructType([\\\n",
    "    StructField(name='id',dataType=IntegerType()),\\\n",
    "        StructField(name='name',dataType=StructName),\\\n",
    "            StructField(name='salary',dataType=IntegerType())])\n",
    "df = spark.createDataFrame(data=data,schema=schema)\n",
    "display(df)"
   ]
  },
  {
   "cell_type": "code",
   "execution_count": 0,
   "metadata": {
    "application/vnd.databricks.v1+cell": {
     "cellMetadata": {
      "byteLimit": 2048000,
      "rowLimit": 10000
     },
     "inputWidgets": {},
     "nuid": "5c962b99-3eb9-4b18-9475-f49dd2ddd2b8",
     "showTitle": false,
     "title": ""
    }
   },
   "outputs": [
    {
     "output_type": "stream",
     "name": "stdout",
     "output_type": "stream",
     "text": [
      "root\n |-- id: integer (nullable = true)\n |-- name: struct (nullable = true)\n |    |-- firstmname: string (nullable = true)\n |    |-- lastname: string (nullable = true)\n |-- salary: integer (nullable = true)\n\n"
     ]
    }
   ],
   "source": [
    "df.printSchema()"
   ]
  },
  {
   "cell_type": "code",
   "execution_count": 0,
   "metadata": {
    "application/vnd.databricks.v1+cell": {
     "cellMetadata": {},
     "inputWidgets": {},
     "nuid": "3d15f091-5046-49c5-8c9a-dfa34c8987a1",
     "showTitle": false,
     "title": ""
    }
   },
   "outputs": [],
   "source": []
  }
 ],
 "metadata": {
  "application/vnd.databricks.v1+notebook": {
   "dashboards": [],
   "language": "python",
   "notebookMetadata": {
    "pythonIndentUnit": 4
   },
   "notebookName": "structtype()&structfield()",
   "widgets": {}
  }
 },
 "nbformat": 4,
 "nbformat_minor": 0
}
