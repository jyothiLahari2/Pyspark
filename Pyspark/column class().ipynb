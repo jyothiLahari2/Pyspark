{
 "cells": [
  {
   "cell_type": "code",
   "execution_count": 0,
   "metadata": {
    "application/vnd.databricks.v1+cell": {
     "cellMetadata": {
      "byteLimit": 2048000,
      "rowLimit": 10000
     },
     "inputWidgets": {},
     "nuid": "dc8c8f98-ed44-4742-8467-fabeec2fec8e",
     "showTitle": false,
     "title": ""
    }
   },
   "outputs": [
    {
     "output_type": "stream",
     "name": "stdout",
     "output_type": "stream",
     "text": [
      "<class 'pyspark.sql.column.Column'>\n"
     ]
    }
   ],
   "source": [
    "from pyspark.sql.functions import lit\n",
    "\n",
    "col1 = lit('lahari')\n",
    "\n",
    "print(type(col1))"
   ]
  },
  {
   "cell_type": "code",
   "execution_count": 0,
   "metadata": {
    "application/vnd.databricks.v1+cell": {
     "cellMetadata": {
      "byteLimit": 2048000,
      "rowLimit": 10000
     },
     "inputWidgets": {},
     "nuid": "ff47ce35-cd5e-4c4f-af1e-763e458ff5af",
     "showTitle": false,
     "title": ""
    }
   },
   "outputs": [
    {
     "output_type": "stream",
     "name": "stdout",
     "output_type": "stream",
     "text": [
      "<class 'str'>\n"
     ]
    }
   ],
   "source": [
    "print(type('lahari'))"
   ]
  },
  {
   "cell_type": "code",
   "execution_count": 0,
   "metadata": {
    "application/vnd.databricks.v1+cell": {
     "cellMetadata": {
      "byteLimit": 2048000,
      "rowLimit": 10000
     },
     "inputWidgets": {},
     "nuid": "38129567-8d9f-49ca-92ad-710be522745a",
     "showTitle": false,
     "title": ""
    }
   },
   "outputs": [
    {
     "output_type": "stream",
     "name": "stdout",
     "output_type": "stream",
     "text": [
      "+--------+---+------+\n|    name|age|salary|\n+--------+---+------+\n|  lahari| 25|   600|\n| Lavanya| 45|   300|\n|Deekshit| 42|   400|\n+--------+---+------+\n\nroot\n |-- name: string (nullable = true)\n |-- age: long (nullable = true)\n |-- salary: long (nullable = true)\n\n"
     ]
    }
   ],
   "source": [
    "from pyspark.sql.functions import lit\n",
    "\n",
    "data = [('lahari',25,600),('Lavanya',45,300),('Deekshit',42,400)]\n",
    "schema = ('name','age','salary')\n",
    "\n",
    "df = spark.createDataFrame(data = data,schema=schema)\n",
    "df.show()\n",
    "df.printSchema()\n"
   ]
  },
  {
   "cell_type": "code",
   "execution_count": 0,
   "metadata": {
    "application/vnd.databricks.v1+cell": {
     "cellMetadata": {
      "byteLimit": 2048000,
      "rowLimit": 10000
     },
     "inputWidgets": {},
     "nuid": "d7273158-c709-4201-9e56-3598d6c49a34",
     "showTitle": false,
     "title": ""
    }
   },
   "outputs": [
    {
     "output_type": "stream",
     "name": "stdout",
     "output_type": "stream",
     "text": [
      "+--------+---+------+------+\n|    name|age|salary|Newcol|\n+--------+---+------+------+\n|  lahari| 25|   600|Newcol|\n| Lavanya| 45|   300|Newcol|\n|Deekshit| 42|   400|Newcol|\n+--------+---+------+------+\n\nroot\n |-- name: string (nullable = true)\n |-- age: long (nullable = true)\n |-- salary: long (nullable = true)\n |-- Newcol: string (nullable = false)\n\n"
     ]
    }
   ],
   "source": [
    "from pyspark.sql.functions import col\n",
    "df1 = df.withColumn('Newcol',lit('Newcol'))\n",
    "df1.show()\n",
    "df1.printSchema()"
   ]
  },
  {
   "cell_type": "code",
   "execution_count": 0,
   "metadata": {
    "application/vnd.databricks.v1+cell": {
     "cellMetadata": {
      "byteLimit": 2048000,
      "rowLimit": 10000
     },
     "inputWidgets": {},
     "nuid": "eaaaa1a3-0ac5-4a8a-b2a8-c0ad569784af",
     "showTitle": false,
     "title": ""
    }
   },
   "outputs": [
    {
     "output_type": "stream",
     "name": "stdout",
     "output_type": "stream",
     "text": [
      "+--------+\n|    name|\n+--------+\n|  lahari|\n| Lavanya|\n|Deekshit|\n+--------+\n\n"
     ]
    }
   ],
   "source": [
    "df2=df1.select(df1.name)\n",
    "df2.show()"
   ]
  },
  {
   "cell_type": "code",
   "execution_count": 0,
   "metadata": {
    "application/vnd.databricks.v1+cell": {
     "cellMetadata": {
      "byteLimit": 2048000,
      "rowLimit": 10000
     },
     "inputWidgets": {},
     "nuid": "9a4f399d-5f82-44ed-bd80-e98ec6c162ae",
     "showTitle": false,
     "title": ""
    }
   },
   "outputs": [
    {
     "output_type": "stream",
     "name": "stdout",
     "output_type": "stream",
     "text": [
      "+--------+\n|    name|\n+--------+\n|  lahari|\n| Lavanya|\n|Deekshit|\n+--------+\n\n"
     ]
    }
   ],
   "source": [
    "df3=df1.select(col('name'))\n",
    "df3.show()"
   ]
  },
  {
   "cell_type": "code",
   "execution_count": 0,
   "metadata": {
    "application/vnd.databricks.v1+cell": {
     "cellMetadata": {
      "byteLimit": 2048000,
      "rowLimit": 10000
     },
     "inputWidgets": {},
     "nuid": "fa4420b1-08c0-4b7b-8650-f11bb44be2dd",
     "showTitle": false,
     "title": ""
    }
   },
   "outputs": [
    {
     "output_type": "stream",
     "name": "stdout",
     "output_type": "stream",
     "text": [
      "+------+\n|salary|\n+------+\n|   600|\n|   300|\n|   400|\n+------+\n\n"
     ]
    }
   ],
   "source": [
    "df4 = df1.select(df['salary'])\n",
    "df4.show()"
   ]
  },
  {
   "cell_type": "code",
   "execution_count": 0,
   "metadata": {
    "application/vnd.databricks.v1+cell": {
     "cellMetadata": {
      "byteLimit": 2048000,
      "rowLimit": 10000
     },
     "inputWidgets": {},
     "nuid": "926f4cd4-d54f-4626-89e8-910b237fe8e0",
     "showTitle": false,
     "title": ""
    }
   },
   "outputs": [
    {
     "output_type": "stream",
     "name": "stdout",
     "output_type": "stream",
     "text": [
      "+------+------+------+--------------+\n|  name|gender|salary|         props|\n+------+------+------+--------------+\n|maheer|  male|  2000|{black, brown}|\n|  wafa|  male|  4000| {black, blue}|\n+------+------+------+--------------+\n\nroot\n |-- name: string (nullable = true)\n |-- gender: string (nullable = true)\n |-- salary: integer (nullable = true)\n |-- props: struct (nullable = true)\n |    |-- hair: string (nullable = true)\n |    |-- eye: string (nullable = true)\n\n"
     ]
    }
   ],
   "source": [
    "from pyspark.sql.functions import lit\n",
    "from pyspark.sql.types import StructType,StructField,StringType,IntegerType\n",
    "data = [('maheer', 'male', 2000, ('black', 'brown')), ('wafa', 'male', 4000, ('black', 'blue'))]\n",
    "propsType = StructType([\\\n",
    "    StructField ('hair', StringType()), \\\n",
    "        StructField ('eye', StringType() )])\n",
    "schema = StructType ( [ \n",
    "                       StructField( 'name', StringType()), \\\n",
    "                           StructField('gender', StringType()), \\\n",
    "                               StructField('salary', IntegerType()), \\\n",
    "                                   StructField( 'props', propsType) ])\n",
    "df = spark.createDataFrame (data, schema)\n",
    "df.show()\n",
    "df.printSchema()"
   ]
  },
  {
   "cell_type": "code",
   "execution_count": 0,
   "metadata": {
    "application/vnd.databricks.v1+cell": {
     "cellMetadata": {
      "byteLimit": 2048000,
      "rowLimit": 10000
     },
     "inputWidgets": {},
     "nuid": "c5fa9c73-a2de-4cf9-ab2a-4b35f24a3ebe",
     "showTitle": false,
     "title": ""
    }
   },
   "outputs": [
    {
     "output_type": "stream",
     "name": "stdout",
     "output_type": "stream",
     "text": [
      "+---------+\n|props.eye|\n+---------+\n|    brown|\n|     blue|\n+---------+\n\n"
     ]
    }
   ],
   "source": [
    "df.select(df.props.eye).show()"
   ]
  },
  {
   "cell_type": "code",
   "execution_count": 0,
   "metadata": {
    "application/vnd.databricks.v1+cell": {
     "cellMetadata": {
      "byteLimit": 2048000,
      "rowLimit": 10000
     },
     "inputWidgets": {},
     "nuid": "5036848a-ed8e-4bfc-bbfe-c5f3daf76b94",
     "showTitle": false,
     "title": ""
    }
   },
   "outputs": [
    {
     "output_type": "stream",
     "name": "stdout",
     "output_type": "stream",
     "text": [
      "+-----+\n|  eye|\n+-----+\n|brown|\n| blue|\n+-----+\n\n"
     ]
    }
   ],
   "source": [
    "df.select(df['props.eye']).show()"
   ]
  },
  {
   "cell_type": "code",
   "execution_count": 0,
   "metadata": {
    "application/vnd.databricks.v1+cell": {
     "cellMetadata": {
      "byteLimit": 2048000,
      "rowLimit": 10000
     },
     "inputWidgets": {},
     "nuid": "aa128eac-5953-4148-abab-d9a3e27c4879",
     "showTitle": false,
     "title": ""
    }
   },
   "outputs": [
    {
     "output_type": "stream",
     "name": "stdout",
     "output_type": "stream",
     "text": [
      "+-----+\n|  eye|\n+-----+\n|brown|\n| blue|\n+-----+\n\n"
     ]
    }
   ],
   "source": [
    "df.select(col('props.eye')).show()"
   ]
  },
  {
   "cell_type": "code",
   "execution_count": 0,
   "metadata": {
    "application/vnd.databricks.v1+cell": {
     "cellMetadata": {},
     "inputWidgets": {},
     "nuid": "c4d4962e-7345-46a7-8f19-fc51add0e60e",
     "showTitle": false,
     "title": ""
    }
   },
   "outputs": [],
   "source": []
  }
 ],
 "metadata": {
  "application/vnd.databricks.v1+notebook": {
   "dashboards": [],
   "language": "python",
   "notebookMetadata": {
    "pythonIndentUnit": 4
   },
   "notebookName": "column class()",
   "widgets": {}
  }
 },
 "nbformat": 4,
 "nbformat_minor": 0
}
